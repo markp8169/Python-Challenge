{
 "cells": [
  {
   "cell_type": "code",
   "execution_count": 1,
   "metadata": {},
   "outputs": [],
   "source": [
    "import os\n",
    "import csv"
   ]
  },
  {
   "cell_type": "code",
   "execution_count": 4,
   "metadata": {},
   "outputs": [],
   "source": [
    "csvpath = os.path.join(\"Homework/Instructions/PyPoll/Resources/election_data.csv\")"
   ]
  },
  {
   "cell_type": "code",
   "execution_count": 6,
   "metadata": {},
   "outputs": [
    {
     "name": "stdout",
     "output_type": "stream",
     "text": [
      "3521001\n"
     ]
    }
   ],
   "source": [
    "#The total number of votes cast\n",
    "voterValue = 0\n",
    "    \n",
    "with open(csvpath, newline='') as csvfile:\n",
    "\n",
    "    csvreader = csv.reader(csvfile, delimiter=',')\n",
    "    \n",
    "    csv_header = next(csvreader)\n",
    "\n",
    "    for row in csvreader:\n",
    "        if row[0] != \"string\":\n",
    "            voterValue += 1\n",
    "                \n",
    "print(voterValue)"
   ]
  },
  {
   "cell_type": "code",
   "execution_count": 7,
   "metadata": {},
   "outputs": [
    {
     "name": "stdout",
     "output_type": "stream",
     "text": [
      "['Khan', 'Correy', 'Li', \"O'Tooley\"]\n"
     ]
    }
   ],
   "source": [
    "#A complete list of candidates who received votes\n",
    "with open(csvpath, newline='') as csvfile:\n",
    "\n",
    "    candidateList = csv.reader(csvfile, delimiter=',', skipinitialspace=True) \n",
    "    \n",
    "    csv_header = next(candidateList)\n",
    "\n",
    "    Candidate = []\n",
    "    for row in candidateList:\n",
    "        if row[2] not in Candidate:\n",
    "            Candidate.append(row[2])  \n",
    "\n",
    "print(Candidate)"
   ]
  },
  {
   "cell_type": "code",
   "execution_count": 8,
   "metadata": {},
   "outputs": [
    {
     "name": "stdout",
     "output_type": "stream",
     "text": [
      "2218231\n",
      "704200\n",
      "492940\n",
      "105630\n"
     ]
    }
   ],
   "source": [
    "#The total number of votes each candidate won\n",
    "khanVotes = 0\n",
    "correyVotes = 0\n",
    "liVotes = 0\n",
    "tooleyVotes = 0\n",
    "    \n",
    "with open(csvpath, newline='') as csvfile:\n",
    "\n",
    "    csvreader = csv.reader(csvfile, delimiter=',')\n",
    "\n",
    "    for row in csvreader:\n",
    "        if row[2] == \"Khan\":\n",
    "            khanVotes += 1\n",
    "        elif row[2] == \"Correy\":\n",
    "            correyVotes += 1\n",
    "        elif row[2] == \"Li\":\n",
    "            liVotes += 1\n",
    "        elif row[2] == \"O'Tooley\":\n",
    "            tooleyVotes += 1\n",
    "                \n",
    "                \n",
    "print(khanVotes)\n",
    "print(correyVotes)\n",
    "print (liVotes)\n",
    "print(tooleyVotes)"
   ]
  },
  {
   "cell_type": "code",
   "execution_count": 9,
   "metadata": {},
   "outputs": [
    {
     "name": "stdout",
     "output_type": "stream",
     "text": [
      "63.00001050837531\n",
      "19.999994319797125\n",
      "13.999996023857989\n",
      "2.999999147969569\n"
     ]
    }
   ],
   "source": [
    "#The percentage of votes each candidate won\n",
    "khanPercentage = (khanVotes / voterValue) * 100\n",
    "correyPercentage = (correyVotes / voterValue) * 100\n",
    "liPercentage = (liVotes / voterValue) * 100\n",
    "tooleyPercentage = (tooleyVotes / voterValue) * 100\n",
    "\n",
    "print(khanPercentage)\n",
    "print(correyPercentage)\n",
    "print(liPercentage)\n",
    "print(tooleyPercentage)"
   ]
  },
  {
   "cell_type": "code",
   "execution_count": 10,
   "metadata": {},
   "outputs": [
    {
     "name": "stdout",
     "output_type": "stream",
     "text": [
      "The winner is Khan with 2218231 votes!\n"
     ]
    }
   ],
   "source": [
    "#The winner of the election based on popular vote.\n",
    "pollWinner = 0\n",
    "\n",
    "pollResults = [khanVotes, correyVotes, liVotes, tooleyVotes]\n",
    "\n",
    "for number in pollResults:\n",
    "    if (int(number) > int(pollWinner)):\n",
    "        pollWinner = number\n",
    "\n",
    "if (int(pollWinner) == int(khanVotes)):\n",
    "    print(f\"The winner is Khan with {khanVotes} votes!\")\n",
    "elif (int(pollWinner) == int(correyVotes)):\n",
    "    print(f\"The winner is Correy with {correyVotes} votes!\")\n",
    "elif (int(pollWinner) == int(liVotes)):\n",
    "    print(f\"The winner is Li with {liVotes} votes!\")\n",
    "elif (int(pollWinner) == int(tooleyVotes)):\n",
    "    print(f\"The winner is Tooley with {tooleyVotes} votes!\")"
   ]
  },
  {
   "cell_type": "code",
   "execution_count": 14,
   "metadata": {},
   "outputs": [
    {
     "name": "stdout",
     "output_type": "stream",
     "text": [
      "Election Results\n",
      "----------------------------\n",
      "Total Votes \n"
     ]
    },
    {
     "ename": "TypeError",
     "evalue": "'NoneType' object is not callable",
     "output_type": "error",
     "traceback": [
      "\u001b[1;31m---------------------------------------------------------------------------\u001b[0m",
      "\u001b[1;31mTypeError\u001b[0m                                 Traceback (most recent call last)",
      "\u001b[1;32m<ipython-input-14-7ef984cc7a51>\u001b[0m in \u001b[0;36m<module>\u001b[1;34m()\u001b[0m\n\u001b[0;32m      1\u001b[0m \u001b[0mprint\u001b[0m \u001b[1;33m(\u001b[0m\u001b[1;34m\"Election Results\"\u001b[0m\u001b[1;33m)\u001b[0m\u001b[1;33m\u001b[0m\u001b[0m\n\u001b[0;32m      2\u001b[0m \u001b[0mprint\u001b[0m \u001b[1;33m(\u001b[0m\u001b[1;34m\"----------------------------\"\u001b[0m\u001b[1;33m)\u001b[0m\u001b[1;33m\u001b[0m\u001b[0m\n\u001b[1;32m----> 3\u001b[1;33m \u001b[0mprint\u001b[0m \u001b[1;33m(\u001b[0m\u001b[1;34m\"Total Votes \"\u001b[0m\u001b[1;33m)\u001b[0m \u001b[1;33m(\u001b[0m\u001b[0mvoterValue\u001b[0m\u001b[1;33m)\u001b[0m\u001b[1;33m\u001b[0m\u001b[0m\n\u001b[0m",
      "\u001b[1;31mTypeError\u001b[0m: 'NoneType' object is not callable"
     ]
    }
   ],
   "source": [
    "print (\"Election Results\")\n",
    "print (\"----------------------------\")\n",
    "print (\"Total Votes \") (voterValue)\n"
   ]
  },
  {
   "cell_type": "code",
   "execution_count": null,
   "metadata": {},
   "outputs": [],
   "source": []
  }
 ],
 "metadata": {
  "kernel_info": {
   "name": "python3"
  },
  "kernelspec": {
   "display_name": "Python 3",
   "language": "python",
   "name": "python3"
  },
  "language_info": {
   "codemirror_mode": {
    "name": "ipython",
    "version": 3
   },
   "file_extension": ".py",
   "mimetype": "text/x-python",
   "name": "python",
   "nbconvert_exporter": "python",
   "pygments_lexer": "ipython3",
   "version": "3.6.5"
  },
  "nteract": {
   "version": "0.2.0"
  }
 },
 "nbformat": 4,
 "nbformat_minor": 2
}
