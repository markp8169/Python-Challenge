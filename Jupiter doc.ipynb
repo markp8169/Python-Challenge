{
 "cells": [
  {
   "cell_type": "code",
   "execution_count": null,
   "metadata": {},
   "outputs": [],
   "source": [
    "import os\n",
    "import csv"
   ]
  },
  {
   "cell_type": "code",
   "execution_count": null,
   "metadata": {},
   "outputs": [],
   "source": [
    "csvpath = os.path.join(\"Homework/Instructions/PyBank/Resources/budget_data.csv\")"
   ]
  },
  {
   "cell_type": "code",
   "execution_count": null,
   "metadata": {},
   "outputs": [],
   "source": [
    "totalVotes = 0\n",
    "    \n",
    "with open(csvpath, newline='') as csvfile:\n",
    "\n",
    "    csvreader = csv.reader(csvfile, delimiter=',')\n",
    "\n",
    "    for row in csvreader:\n",
    "        if row[0] != \"string\":\n",
    "                monthValue += 1\n",
    "                \n",
    "monthValue -= 1\n",
    "                \n",
    "print(monthValue)"
   ]
  },
  {
   "cell_type": "code",
   "execution_count": null,
   "metadata": {},
   "outputs": [],
   "source": [
    "netProfit = 0\n",
    "    \n",
    "with open(csvpath, newline='') as csvfile:\n",
    "\n",
    "    csvreader = csv.reader(csvfile, delimiter=',')\n",
    "    \n",
    "    csv_header = next(csvreader)\n",
    "\n",
    "    for row in csvreader:\n",
    "        netProfit = netProfit + int(row[1])\n",
    "        \n",
    "print(netProfit)"
   ]
  },
  {
   "cell_type": "code",
   "execution_count": null,
   "metadata": {},
   "outputs": [],
   "source": [
    "#The average change in \"Profit/Losses\" between months over the entire period\n",
    "\n",
    "averageChange = 0\n",
    "\n",
    "with open(csvpath, newline='') as csvfile:\n",
    "\n",
    "    csvreader = csv.reader(csvfile, delimiter=',')\n",
    "    \n",
    "    csv_header = next(csvreader)\n",
    "    firstRow = next(csvreader)\n",
    "\n",
    "    for row in firstRow:\n",
    "        firstValue = row\n",
    "        \n",
    "    for row in csvreader:\n",
    "        lastValue = row[1]\n",
    "        \n",
    "        averageChange = (int(firstValue) - int(lastValue)) / (int(monthValue) - 1)\n",
    "\n",
    "print(averageChange)\n",
    "        "
   ]
  },
  {
   "cell_type": "code",
   "execution_count": null,
   "metadata": {},
   "outputs": [],
   "source": [
    "#The greatest increase in profits (date and amount) over the entire period\n",
    "\n",
    "greatestDifference = 0\n",
    "previousValue = 0\n",
    "\n",
    "with open(csvpath, newline='') as csvfile:\n",
    "\n",
    "    csvreader = csv.reader(csvfile, delimiter=',')\n",
    "    \n",
    "    csv_header = next(csvreader)\n",
    "\n",
    "    for row in csvreader:\n",
    "        currentValue = int(row[1])\n",
    "        \n",
    "        valueDifference = (currentValue - previousValue)\n",
    "        if (valueDifference > greatestDifference):\n",
    "            greatestDifference = valueDifference\n",
    "            differenceMonth = (row[0])\n",
    "        previousValue = int(row[1])\n",
    "            \n",
    "print(greatestDifference)"
   ]
  },
  {
   "cell_type": "code",
   "execution_count": null,
   "metadata": {},
   "outputs": [],
   "source": [
    "#The greatest decrease in losses (date and amount) over the entire period\n",
    "\n",
    "greatestLoss = 0\n",
    "previousValue = 0\n",
    "\n",
    "with open(csvpath, newline='') as csvfile:\n",
    "\n",
    "    csvreader = csv.reader(csvfile, delimiter=',')\n",
    "    \n",
    "    csv_header = next(csvreader)\n",
    "\n",
    "    for row in csvreader:\n",
    "        currentValue = int(row[1])\n",
    "        \n",
    "        valueDifference = (previousValue - currentValue)\n",
    "        if (valueDifference > greatestLoss):\n",
    "            greatestLoss = valueDifference\n",
    "            lossMonth = row[0]\n",
    "        previousValue = int(row[1])\n",
    "        \n",
    "greatestLoss = greatestLoss - (greatestLoss * 2)\n",
    "            \n",
    "print(greatestLoss)\n",
    "print(lossMonth)\n"
   ]
  },
  {
   "cell_type": "code",
   "execution_count": null,
   "metadata": {},
   "outputs": [],
   "source": [
    "print(f\"Number of months: {monthValue}\")\n",
    "print(f\"Net profit: {netProfit}\")\n",
    "print(f\"Greatest increase in profits: ${greatestDifference} on {differenceMonth}\")\n",
    "print(f\"Greatest decrease in profits: ${greatestLoss} on {lossMonth}\")\n"
   ]
  },
  {
   "cell_type": "code",
   "execution_count": null,
   "metadata": {},
   "outputs": [],
   "source": []
  }
 ],
 "metadata": {
  "kernel_info": {
   "name": "python3"
  },
  "kernelspec": {
   "display_name": "Python 3",
   "language": "python",
   "name": "python3"
  },
  "language_info": {
   "codemirror_mode": {
    "name": "ipython",
    "version": 3
   },
   "file_extension": ".py",
   "mimetype": "text/x-python",
   "name": "python",
   "nbconvert_exporter": "python",
   "pygments_lexer": "ipython3",
   "version": "3.6.5"
  },
  "nteract": {
   "version": "0.2.0"
  }
 },
 "nbformat": 4,
 "nbformat_minor": 2
}
